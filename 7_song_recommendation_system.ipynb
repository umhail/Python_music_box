{
 "cells": [
  {
   "cell_type": "markdown",
   "metadata": {},
   "source": [
    "# Load data into Spark DataFrame"
   ]
  },
  {
   "cell_type": "code",
   "execution_count": 188,
   "metadata": {},
   "outputs": [],
   "source": [
    "from pyspark.sql.types import *\n",
    "import pyspark.sql.functions as F\n",
    "import numpy as np\n",
    "import pandas as pd\n",
    "from scipy import sparse\n",
    "from sklearn.metrics.pairwise import cosine_similarity\n",
    "from time import time"
   ]
  },
  {
   "cell_type": "code",
   "execution_count": 189,
   "metadata": {
    "scrolled": true
   },
   "outputs": [],
   "source": [
    "df2 = spark.read.csv('/Users/vl/Downloads/BitTiger-DS501-1805-master/Capstone/Capstone_Music_Box_Spark/src/data/play_ds.csv', header = 'TRUE').cache()\n"
   ]
  },
  {
   "cell_type": "code",
   "execution_count": 190,
   "metadata": {},
   "outputs": [
    {
     "name": "stdout",
     "output_type": "stream",
     "text": [
      "+---------+------+--------+----------+--------------------+-----------+\n",
      "|      uid|device| song_id|      date|           play_time|song_length|\n",
      "+---------+------+--------+----------+--------------------+-----------+\n",
      "|168551042|    ar|  505355|2017-03-30|                 106|        277|\n",
      "|168551417|    ar|  727161|2017-03-30|                  27|        226|\n",
      "|168551408|    ar|15750838|2017-03-30|7>(123.138.230.80)TM|          0|\n",
      "|168548493|    ip| 6661513|2017-03-30|                  63|        243|\n",
      "|168551221|    ar| 5914258|2017-03-30|                   2|        276|\n",
      "+---------+------+--------+----------+--------------------+-----------+\n",
      "only showing top 5 rows\n",
      "\n"
     ]
    }
   ],
   "source": [
    "df2.show(5)"
   ]
  },
  {
   "cell_type": "markdown",
   "metadata": {},
   "source": [
    "# Data cleaning"
   ]
  },
  {
   "cell_type": "code",
   "execution_count": 191,
   "metadata": {},
   "outputs": [
    {
     "data": {
      "text/plain": [
       "DataFrame[uid: string, device: string, song_id: string, date: date, play_time: int, song_length: int]"
      ]
     },
     "execution_count": 191,
     "metadata": {},
     "output_type": "execute_result"
    }
   ],
   "source": [
    "# change data type\n",
    "df2 = df2.withColumn('date',F.col('date').cast('date'))\n",
    "df2 = df2.withColumn('play_time', F.col('play_time').cast('int'))\n",
    "df2 = df2.withColumn('song_length', F.col('song_length').cast('int'))\n",
    "\n",
    "df2"
   ]
  },
  {
   "cell_type": "code",
   "execution_count": 192,
   "metadata": {},
   "outputs": [],
   "source": [
    "# remove device column\n",
    "df2 = df2.drop('device')"
   ]
  },
  {
   "cell_type": "code",
   "execution_count": 193,
   "metadata": {},
   "outputs": [
    {
     "name": "stdout",
     "output_type": "stream",
     "text": [
      "+----------------+\n",
      "|min(song_length)|\n",
      "+----------------+\n",
      "|     -2147483648|\n",
      "+----------------+\n",
      "\n",
      "+----------------+\n",
      "|max(song_length)|\n",
      "+----------------+\n",
      "|       399313856|\n",
      "+----------------+\n",
      "\n"
     ]
    }
   ],
   "source": [
    "# verify song length are reasonable\n",
    "df2.select('song_length').agg(F.min('song_length')).show()\n",
    "df2.select('song_length').agg(F.max('song_length')).show()"
   ]
  },
  {
   "cell_type": "code",
   "execution_count": 194,
   "metadata": {},
   "outputs": [],
   "source": [
    "## remove lines with song length less than 0 or greater than 600 seconds\n",
    "df2 = df2.filter((F.col('song_length') > 0) & (F.col('song_length') <= 600))"
   ]
  },
  {
   "cell_type": "code",
   "execution_count": 195,
   "metadata": {},
   "outputs": [],
   "source": [
    "# remove lines with negative play time\n",
    "df2 = df2.filter((F.col('play_time') > 0))"
   ]
  },
  {
   "cell_type": "code",
   "execution_count": 196,
   "metadata": {
    "scrolled": true
   },
   "outputs": [
    {
     "name": "stdout",
     "output_type": "stream",
     "text": [
      "+--------+---------------------------+\n",
      "| song_id|count(DISTINCT song_length)|\n",
      "+--------+---------------------------+\n",
      "|11801086|                          1|\n",
      "|  128181|                          2|\n",
      "| 4254340|                          1|\n",
      "|14321040|                          2|\n",
      "| 1136678|                          1|\n",
      "+--------+---------------------------+\n",
      "only showing top 5 rows\n",
      "\n"
     ]
    }
   ],
   "source": [
    "# check for data inconsistency\n",
    "df2.select('song_id', 'song_length').groupby('song_id')\\\n",
    "    .agg(F.countDistinct('song_length')).show(5)"
   ]
  },
  {
   "cell_type": "code",
   "execution_count": 197,
   "metadata": {},
   "outputs": [
    {
     "data": {
      "text/plain": [
       "DataFrame[song_id: string, uid: string, date: date, play_time: int, avg(song_length): double]"
      ]
     },
     "execution_count": 197,
     "metadata": {},
     "output_type": "execute_result"
    }
   ],
   "source": [
    "# replace multiple song length with average length for the same song id \n",
    "avg = df2.select('song_id', 'song_length')\\\n",
    "    .groupby('song_id')\\\n",
    "    .agg(F.mean('song_length'))\n",
    "df2 = df2.join(avg, on='song_id', how='left')\n",
    "df2 = df2.drop('song_length')\n",
    "df2"
   ]
  },
  {
   "cell_type": "markdown",
   "metadata": {},
   "source": [
    "# Construct utility matrix"
   ]
  },
  {
   "cell_type": "code",
   "execution_count": 198,
   "metadata": {},
   "outputs": [],
   "source": [
    "# based on play time compute an implicit rating for each song j played by user i, rating ∈ [0:10]\n",
    "def total_playtime(df):\n",
    "    df = df \\\n",
    "        .groupBy('uid','song_id') \\\n",
    "        .agg(F.sum(F.col('play_time')).alias('playtime_t') \n",
    "            )\n",
    "    return df\n",
    "\n",
    "play = df2.drop('avg(song_length)','date')\n",
    "\n",
    "play_total = total_playtime(play)\n",
    "\n",
    "play_max = play_total.groupBy('uid').agg(F.max(F.col('playtime_t')).alias('playtime_m'))\n",
    "\n",
    "utility_tmp = play_total.join(play_max, on = 'uid', how = 'left')\n",
    "\n",
    "utility = utility_tmp.withColumn('rating', F.col('playtime_t')/F.col('playtime_m')*10)\n",
    "\n",
    "utility_m = utility.drop('playtime_t', 'playtime_m')"
   ]
  },
  {
   "cell_type": "code",
   "execution_count": 264,
   "metadata": {},
   "outputs": [
    {
     "name": "stdout",
     "output_type": "stream",
     "text": [
      "+---------+--------+--------------------+\n",
      "|      uid| song_id|              rating|\n",
      "+---------+--------+--------------------+\n",
      "|117677098|12792419| 0.03291314221768752|\n",
      "|117677098| 5785728| 0.02567225092979627|\n",
      "|117677098| 2943425|0.030609222262449397|\n",
      "|117677098| 3630504| 0.09775203238653193|\n",
      "|117677098|11677710| 0.02369746239673502|\n",
      "|117677098|   69873| 0.07668762136721193|\n",
      "|117677098|  611566|  0.0822828555442188|\n",
      "|117677098| 5085956| 0.10992989500707634|\n",
      "|117677098|15171705| 0.09643550669782444|\n",
      "|117677098| 1099200| 0.09643550669782444|\n",
      "+---------+--------+--------------------+\n",
      "only showing top 10 rows\n",
      "\n"
     ]
    }
   ],
   "source": [
    "utility_m.show(10)"
   ]
  },
  {
   "cell_type": "markdown",
   "metadata": {},
   "source": [
    "# Popularity-based recommender"
   ]
  },
  {
   "cell_type": "code",
   "execution_count": 250,
   "metadata": {
    "scrolled": true
   },
   "outputs": [],
   "source": [
    "# Recommend the top 10 songs that have been played for least 85% of it's length by the most people\n",
    "df3 = df2.withColumn('playtime_85pp', F.col('play_time')/F.col('avg(song_length)'))\n",
    "df4 = df3.filter(~(df3[\"song_id\"].isNull()))\n",
    "df5 = df4.filter(~(df4[\"song_id\"] == 0))"
   ]
  },
  {
   "cell_type": "code",
   "execution_count": 261,
   "metadata": {},
   "outputs": [
    {
     "name": "stdout",
     "output_type": "stream",
     "text": [
      "+--------+-----+\n",
      "| song_id|count|\n",
      "+--------+-----+\n",
      "| 9950164| 6437|\n",
      "| 5237384| 4966|\n",
      "|15249349| 4218|\n",
      "| 5114569| 3003|\n",
      "|13273544| 2921|\n",
      "| 6468891| 2752|\n",
      "| 6657692| 2280|\n",
      "|15807836| 2025|\n",
      "| 3620537| 2016|\n",
      "|16827761| 1873|\n",
      "+--------+-----+\n",
      "only showing top 10 rows\n",
      "\n"
     ]
    }
   ],
   "source": [
    "# Recommender: past 7-day top 10\n",
    "rec1 = df5.filter(F.col('date').between('2017-05-06', '2017-05-13'))\n",
    "df_rec_7 = rec1.groupBy('song_id').agg(\n",
    "    F.count(F.col('playtime_85pp') >= 0.85).alias('count')\n",
    ").sort('count', ascending=False)\n",
    "\n",
    "df_rec_7.show(10)"
   ]
  },
  {
   "cell_type": "code",
   "execution_count": 262,
   "metadata": {},
   "outputs": [
    {
     "name": "stdout",
     "output_type": "stream",
     "text": [
      "+--------+-----+\n",
      "| song_id|count|\n",
      "+--------+-----+\n",
      "| 9950164|35156|\n",
      "|15249349|22034|\n",
      "| 5237384|20734|\n",
      "| 6468891|14302|\n",
      "|13273544|13533|\n",
      "| 5114569|13364|\n",
      "|15807836|10904|\n",
      "|23646084|10789|\n",
      "| 6657692|10620|\n",
      "| 3620537|10082|\n",
      "+--------+-----+\n",
      "only showing top 10 rows\n",
      "\n"
     ]
    }
   ],
   "source": [
    "# Recommender: last 30-day top 10\n",
    "rec2 = df5.filter(F.col('date').between('2017-04-13', '2017-05-13'))\n",
    "df_rec_30 = rec2.groupBy('song_id').agg(\n",
    "    F.count(F.col('playtime_85pp') >= 0.85).alias('count')\n",
    ").sort('count', ascending=False)\n",
    "\n",
    "df_rec_30.show(10)"
   ]
  }
 ],
 "metadata": {
  "kernelspec": {
   "display_name": "Python 3",
   "language": "python",
   "name": "python3"
  },
  "language_info": {
   "codemirror_mode": {
    "name": "ipython",
    "version": 3
   },
   "file_extension": ".py",
   "mimetype": "text/x-python",
   "name": "python",
   "nbconvert_exporter": "python",
   "pygments_lexer": "ipython3",
   "version": "3.7.0"
  }
 },
 "nbformat": 4,
 "nbformat_minor": 2
}
